{
 "cells": [
  {
   "cell_type": "markdown",
   "metadata": {},
   "source": [
    "# Example notebook with customer transformers"
   ]
  },
  {
   "cell_type": "code",
   "execution_count": 5,
   "metadata": {},
   "outputs": [
    {
     "data": {
      "text/plain": [
       "'/Users/marshall.carter/Documents/my_repos/transformers'"
      ]
     },
     "execution_count": 5,
     "metadata": {},
     "output_type": "execute_result"
    }
   ],
   "source": [
    "%pwd"
   ]
  },
  {
   "cell_type": "code",
   "execution_count": 6,
   "metadata": {},
   "outputs": [
    {
     "name": "stdout",
     "output_type": "stream",
     "text": [
      "/Users/marshall.carter/Documents/my_repos\n"
     ]
    }
   ],
   "source": [
    "%cd .."
   ]
  },
  {
   "cell_type": "code",
   "execution_count": 8,
   "metadata": {},
   "outputs": [],
   "source": [
    "import pandas as pd\n",
    "\n",
    "from sklearn.compose import ColumnTransformer\n",
    "from sklearn.model_selection import cross_val_score\n",
    "from sklearn.pipeline import FeatureUnion, make_pipeline\n",
    "from sklearn.ensemble import RandomForestClassifier\n",
    "\n",
    "# Import custom libraries\n",
    "from transformers.general import GetDummies\n",
    "from transformers.strings import StringCleaner, StringSimilarity"
   ]
  },
  {
   "cell_type": "markdown",
   "metadata": {},
   "source": [
    "### An example dataset of personal information\n",
    "Lets build a simple model to predict which record pairs are matches"
   ]
  },
  {
   "cell_type": "code",
   "execution_count": 9,
   "metadata": {},
   "outputs": [
    {
     "data": {
      "text/html": [
       "<div>\n",
       "<style scoped>\n",
       "    .dataframe tbody tr th:only-of-type {\n",
       "        vertical-align: middle;\n",
       "    }\n",
       "\n",
       "    .dataframe tbody tr th {\n",
       "        vertical-align: top;\n",
       "    }\n",
       "\n",
       "    .dataframe thead th {\n",
       "        text-align: right;\n",
       "    }\n",
       "</style>\n",
       "<table border=\"1\" class=\"dataframe\">\n",
       "  <thead>\n",
       "    <tr style=\"text-align: right;\">\n",
       "      <th></th>\n",
       "      <th>name_first_1</th>\n",
       "      <th>name_first_2</th>\n",
       "      <th>name_last_1</th>\n",
       "      <th>name_last_2</th>\n",
       "      <th>address_1</th>\n",
       "      <th>address_2</th>\n",
       "      <th>phone_m</th>\n",
       "      <th>match</th>\n",
       "    </tr>\n",
       "  </thead>\n",
       "  <tbody>\n",
       "    <tr>\n",
       "      <td>0</td>\n",
       "      <td>Marsh  all</td>\n",
       "      <td>Marshall</td>\n",
       "      <td>CRTER</td>\n",
       "      <td>carter</td>\n",
       "      <td>121  Wingra Ave</td>\n",
       "      <td>121, Winga Ave</td>\n",
       "      <td>N</td>\n",
       "      <td>1</td>\n",
       "    </tr>\n",
       "    <tr>\n",
       "      <td>1</td>\n",
       "      <td>Da vid</td>\n",
       "      <td>Dave</td>\n",
       "      <td>JEFFERSON</td>\n",
       "      <td>jefferson</td>\n",
       "      <td>2000 American Parkway</td>\n",
       "      <td>200 American Pkwy</td>\n",
       "      <td>Y</td>\n",
       "      <td>1</td>\n",
       "    </tr>\n",
       "    <tr>\n",
       "      <td>2</td>\n",
       "      <td>John</td>\n",
       "      <td>Johnathan</td>\n",
       "      <td>WILLMS</td>\n",
       "      <td>WILL iams</td>\n",
       "      <td>1 South,  Ave</td>\n",
       "      <td>1 S Avenue</td>\n",
       "      <td>Y</td>\n",
       "      <td>1</td>\n",
       "    </tr>\n",
       "    <tr>\n",
       "      <td>3</td>\n",
       "      <td>Bill</td>\n",
       "      <td>Andy</td>\n",
       "      <td>anderson</td>\n",
       "      <td>blake</td>\n",
       "      <td>123 Main St.</td>\n",
       "      <td>2 Kailua Ave.</td>\n",
       "      <td>N</td>\n",
       "      <td>0</td>\n",
       "    </tr>\n",
       "    <tr>\n",
       "      <td>4</td>\n",
       "      <td>Jane</td>\n",
       "      <td>Robert</td>\n",
       "      <td>folwer</td>\n",
       "      <td>franklin</td>\n",
       "      <td>1321 Maynard St.</td>\n",
       "      <td>4 Wilson Blvd</td>\n",
       "      <td>N</td>\n",
       "      <td>0</td>\n",
       "    </tr>\n",
       "  </tbody>\n",
       "</table>\n",
       "</div>"
      ],
      "text/plain": [
       "  name_first_1 name_first_2 name_last_1 name_last_2               address_1  \\\n",
       "0   Marsh  all     Marshall       CRTER      carter         121  Wingra Ave   \n",
       "1       Da vid         Dave   JEFFERSON   jefferson  2000 American Parkway    \n",
       "2         John    Johnathan      WILLMS   WILL iams           1 South,  Ave   \n",
       "3         Bill         Andy    anderson       blake            123 Main St.   \n",
       "4         Jane       Robert      folwer    franklin        1321 Maynard St.   \n",
       "\n",
       "           address_2 phone_m  match  \n",
       "0     121, Winga Ave       N      1  \n",
       "1  200 American Pkwy       Y      1  \n",
       "2         1 S Avenue       Y      1  \n",
       "3      2 Kailua Ave.       N      0  \n",
       "4      4 Wilson Blvd       N      0  "
      ]
     },
     "execution_count": 9,
     "metadata": {},
     "output_type": "execute_result"
    }
   ],
   "source": [
    "df_names = pd.DataFrame({'name_first_1': ['Marsh  all', 'Da vid', 'John', 'Bill', 'Jane'],\n",
    "                         'name_first_2': ['Marshall', 'Dave', 'Johnathan', 'Andy', 'Robert'],\n",
    "                         'name_last_1': ['CRTER', 'JEFFERSON', 'WILLMS', 'anderson', 'folwer'],\n",
    "                         'name_last_2': ['carter', 'jefferson', 'WILL iams', 'blake', 'franklin'],\n",
    "                         'address_1': ['121  Wingra Ave', '2000 American Parkway ', '1 South,  Ave', '123 Main St.', '1321 Maynard St.'],\n",
    "                         'address_2': ['121, Winga Ave', '200 American Pkwy', '1 S Avenue', '2 Kailua Ave.', '4 Wilson Blvd'],\n",
    "                         'phone_m': ['N','Y','Y','N','N'],\n",
    "                         'match': [1,1,1,0,0]})\n",
    "\n",
    "df_names.head()"
   ]
  },
  {
   "cell_type": "code",
   "execution_count": 11,
   "metadata": {},
   "outputs": [],
   "source": [
    "label_col = \"match\"\n",
    "feature_cols = [col for col in df_names.columns if col != label_col]\n",
    "\n",
    "df_features = df_names[feature_cols]\n",
    "df_label = df_names[label_col]"
   ]
  },
  {
   "cell_type": "markdown",
   "metadata": {},
   "source": [
    "### Construct the feature pipeline"
   ]
  },
  {
   "cell_type": "code",
   "execution_count": 12,
   "metadata": {},
   "outputs": [],
   "source": [
    "name_first_pipe = make_pipeline(StringCleaner(\"name\"),\n",
    "                                StringSimilarity([\"jaro_winkler\"]))\n",
    "\n",
    "\n",
    "name_last_pipe = make_pipeline(StringCleaner(\"name\"),\n",
    "                               StringSimilarity([\"jaro_winkler\"]))\n",
    "\n",
    "\n",
    "address_pipe = make_pipeline(StringCleaner(\"name\"),\n",
    "                             StringSimilarity([\"jaro_winkler\", \"token_set\"]))\n",
    "\n",
    "\n",
    "phone_pipe = make_pipeline(GetDummies())\n",
    "\n",
    "\n",
    "preprocessor = ColumnTransformer(transformers=[\n",
    "                                   ('first_names',   name_first_pipe, [\"name_first_1\", \"name_first_2\"]),\n",
    "                                   ('last_names',    name_last_pipe, [\"name_last_1\", \"name_last_2\"]),\n",
    "                                   ('addresses',     address_pipe, [\"address_1\", \"address_2\"]),\n",
    "                                   ('phone_numbers', phone_pipe, [\"phone_m\"])])\n",
    "\n",
    "\n",
    "clf = RandomForestClassifier(n_estimators = 50, n_jobs=-1)\n",
    "\n",
    "model_pipeline = make_pipeline(preprocessor, clf)"
   ]
  },
  {
   "cell_type": "markdown",
   "metadata": {},
   "source": [
    "#### Model cross validation score"
   ]
  },
  {
   "cell_type": "code",
   "execution_count": 13,
   "metadata": {},
   "outputs": [
    {
     "data": {
      "text/plain": [
       "1.0"
      ]
     },
     "execution_count": 13,
     "metadata": {},
     "output_type": "execute_result"
    }
   ],
   "source": [
    "# On a real-world dataset, which would be much bigger, a larger number\n",
    "# of folds would be used for cross validation\n",
    "model_score = cross_val_score(model_pipeline, df_features, df_label, cv=2, scoring='f1')\n",
    "model_score.mean()"
   ]
  },
  {
   "cell_type": "markdown",
   "metadata": {},
   "source": [
    "#### The model feature vector"
   ]
  },
  {
   "cell_type": "code",
   "execution_count": 14,
   "metadata": {},
   "outputs": [
    {
     "data": {
      "text/plain": [
       "array([[ 98,  95,  98,  96,   0],\n",
       "       [ 80, 100,  92,  89,   1],\n",
       "       [ 89,  93,  76,  67,   1],\n",
       "       [  0,  55,  62,  35,   0],\n",
       "       [ 47,  53,  44,  29,   0]])"
      ]
     },
     "execution_count": 14,
     "metadata": {},
     "output_type": "execute_result"
    }
   ],
   "source": [
    "preprocessor.fit_transform(df_features)"
   ]
  },
  {
   "cell_type": "markdown",
   "metadata": {},
   "source": [
    "#### Using the model for prediction\n",
    "A great feature of scikit-learn pipelines is that all the feature engineering and prediction are performed by a single method call. This greatly simplifies model deployment."
   ]
  },
  {
   "cell_type": "code",
   "execution_count": 15,
   "metadata": {},
   "outputs": [
    {
     "data": {
      "text/plain": [
       "array([1, 1, 1, 0, 0])"
      ]
     },
     "execution_count": 15,
     "metadata": {},
     "output_type": "execute_result"
    }
   ],
   "source": [
    "fitted_model = model_pipeline.fit(df_features, df_label)\n",
    "\n",
    "fitted_model.predict(df_features)"
   ]
  }
 ],
 "metadata": {
  "kernelspec": {
   "display_name": "Python 3",
   "language": "python",
   "name": "python3"
  },
  "language_info": {
   "codemirror_mode": {
    "name": "ipython",
    "version": 3
   },
   "file_extension": ".py",
   "mimetype": "text/x-python",
   "name": "python",
   "nbconvert_exporter": "python",
   "pygments_lexer": "ipython3",
   "version": "3.7.4"
  }
 },
 "nbformat": 4,
 "nbformat_minor": 4
}
